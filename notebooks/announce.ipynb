{
 "cells": [
  {
   "cell_type": "code",
   "execution_count": 77,
   "metadata": {},
   "outputs": [],
   "source": [
    "def news_format(title, category, content, link):\n",
    "\n",
    "    if category==\"award\":\n",
    "        return f\"\"\"                <div class=\"packages-item\">\n",
    "                        <div class=\"packages-content bg-light\">\n",
    "                            <div class=\"p-4 pb-0\" style=\"border: #198754 1px solid;min-height:175px;\">\n",
    "                            <small class=\"text-uppercase text-success\" style=\"font-size: smaller; font-weight: 700;\">Award</small>\n",
    "                                <h5 class=\"mb-0\">{title}</h5>\n",
    "                                <p class=\"\">{content}</p>\n",
    "                            </div>\n",
    "                            <div class=\"row bg-success rounded-bottom mx-0\">\n",
    "                                <div class=\"text-end text-white px-0\">\n",
    "                                    <a href=\"{link}\" class=\"btn-hover btn text-white\">Know More!</a>\n",
    "                                </div>\n",
    "                            </div>\n",
    "                        </div>\n",
    "                    </div>\"\"\"\n",
    "    if category==\"info\":\n",
    "        return f\"\"\"                <div class=\"packages-item\">\n",
    "                <div class=\"packages-content bg-light\">\n",
    "                    <div class=\"p-4 pb-0\" style=\"border: #0dcaf0 1px solid;min-height:175px;\">\n",
    "                        <small class=\"text-uppercase text-info\" style=\"font-size: smaller; font-weight: 700;\">News</small>\n",
    "                        <h5 class=\"mb-0\">{title}</h5>\n",
    "                        <p class=\"\">{content}</p>\n",
    "                    </div>\n",
    "                    <div class=\"row bg-info rounded-bottom mx-0\">\n",
    "                        <div class=\"text-end text-white px-0\">\n",
    "                            <a href=\"#\" class=\"btn-hover btn text-white\">{link}</a>\n",
    "                        </div>\n",
    "                    </div>\n",
    "                </div>\n",
    "            </div>\"\"\"\n",
    "    \n",
    "    if category==\"paper\":\n",
    "        return f\"\"\"                <div class=\"packages-item\">\n",
    "                <div class=\"packages-content bg-light\">\n",
    "                    <div class=\"p-4 pb-0\" style=\"border: #13357b 1px solid; min-height:175px;\">\n",
    "                    <small class=\"text-uppercase text-primary\" style=\"font-size: smaller; font-weight: 700;\">Publication</small>\n",
    "                        <h5 class=\"mb-0\">{title}</h5>\n",
    "                        <p class=\"\">{content}</p>\n",
    "                    </div>\n",
    "                    <div class=\"row bg-primary rounded-bottom mx-0\">\n",
    "                        <div class=\"text-end text-white px-0\">\n",
    "                            <a href=\"{link}\" class=\"btn-hover btn text-white\">Link to article</a>\n",
    "                        </div>\n",
    "                    </div>\n",
    "                </div>\n",
    "            </div>\"\"\"\n",
    "    if category==\"position\":\n",
    "        return f\"\"\"                <div class=\"packages-item\">\n",
    "                <div class=\"packages-content bg-light\">\n",
    "                    <div class=\"p-4 pb-0\" style=\"border: #ffc107 1px solid; min-height:175px;\">\n",
    "                    <small class=\"text-uppercase text-warning\" style=\"font-size: smaller; font-weight: 700;\">Positions</small>\n",
    "                        <h5 class=\"mb-0\">{title}</h5>\n",
    "        \n",
    "                        <p class=\"\">{content}</p>\n",
    "                    </div>\n",
    "                    <div class=\"row bg-warning rounded-bottom mx-0\">\n",
    "                        <div class=\"text-end text-white px-0\">\n",
    "                            <a href=\"{link}\" class=\"btn-hover btn text-white\">Know More!</a>\n",
    "                        </div>\n",
    "                    </div>\n",
    "                </div>\n",
    "            </div>\"\"\""
   ]
  },
  {
   "cell_type": "code",
   "execution_count": 78,
   "metadata": {},
   "outputs": [],
   "source": [
    "news = [\n",
    "    {\n",
    "    \"title\": \"Muskan leaves the group\",\n",
    "    \"category\": \"info\",\n",
    "    \"content\": \"Muskan Sharma leaves the group and joining at Charles University, Chez Republic.\",\n",
    "    \"link\": \"Farewel Muskan!\"\n",
    "},\n",
    "\n",
    "{\n",
    "    \"title\": \"New member in the group\",\n",
    "    \"category\": \"info\",\n",
    "    \"content\": \"Shaheerah Shahid joins as a JRF in the group.\",\n",
    "    \"link\": \"Welcome Shaheerah!\"\n",
    "},\n",
    "    {\n",
    "    \"title\": \"Dr. Chakrabarty receives award\",\n",
    "    \"category\": \"award\",\n",
    "    \"content\": \"Dr. Suman Chakrabarty received the CRSI Bronze medal 2025\",\n",
    "    \"link\": \"https://x.com/ChemResSocIndia/status/1809264682374738052\"\n",
    "},\n",
    "{\n",
    "    \"title\": \"Paper published in Chemical Physics Impact\",\n",
    "    \"category\": \"paper\",\n",
    "    \"content\": \"K. Sinha published a paper in Chemical Physics Impact\",\n",
    "    \"link\": \"https://scholar.google.co.in/citations?view_op=view_citation&hl=en&user=dcj-bnsAAAAJ&sortby=pubdate&citation_for_view=dcj-bnsAAAAJ:2_BaaiyHPJIC\"\n",
    "},\n",
    "{\n",
    "    \"title\": \"TRC project position open\",\n",
    "    \"category\": \"position\",\n",
    "    \"content\": \"We have a position open for a project student under the TRC project scheme\",\n",
    "    \"link\": \"https://www.bose.res.in/departments/TRC/index.jsp\"\n",
    "}]"
   ]
  },
  {
   "cell_type": "code",
   "execution_count": 79,
   "metadata": {},
   "outputs": [],
   "source": [
    "template = open(\"index_template.html\", \"r\").readlines()\n",
    "header = template[:114]\n",
    "tailed = template[114:]"
   ]
  },
  {
   "cell_type": "code",
   "execution_count": 80,
   "metadata": {},
   "outputs": [],
   "source": [
    "starter = \"\"\"    <div class=\"container-fluid packages\">\n",
    "        <div class=\"container py-5\">\n",
    "            <div class=\"mx-auto text-center mb-5\" style=\"max-width: 900px;\">\n",
    "                <h5 class=\"section-title px-3\">Announcements</h5>\n",
    "            </div>\n",
    "            <div class=\"packages-carousel owl-carousel\">\"\"\"\n",
    "ender = \"\"\"</div>\n",
    "        </div>\n",
    "    </div>\"\"\""
   ]
  },
  {
   "cell_type": "code",
   "execution_count": 81,
   "metadata": {},
   "outputs": [],
   "source": [
    "my_announcements = \"\"\n",
    "for news_item in news:\n",
    "    my_announcements += news_format(news_item[\"title\"], news_item[\"category\"], news_item[\"content\"], news_item[\"link\"])"
   ]
  },
  {
   "cell_type": "code",
   "execution_count": 82,
   "metadata": {},
   "outputs": [],
   "source": [
    "with open('index_test.html', 'w') as f:\n",
    "    f.write(''.join(header))\n",
    "    f.write(starter)\n",
    "    f.write(my_announcements)\n",
    "    f.write(ender)\n",
    "    f.write(''.join(tailed))"
   ]
  },
  {
   "cell_type": "code",
   "execution_count": null,
   "metadata": {},
   "outputs": [],
   "source": []
  },
  {
   "cell_type": "code",
   "execution_count": null,
   "metadata": {},
   "outputs": [],
   "source": []
  }
 ],
 "metadata": {
  "kernelspec": {
   "display_name": "sarkar",
   "language": "python",
   "name": "python3"
  },
  "language_info": {
   "codemirror_mode": {
    "name": "ipython",
    "version": 3
   },
   "file_extension": ".py",
   "mimetype": "text/x-python",
   "name": "python",
   "nbconvert_exporter": "python",
   "pygments_lexer": "ipython3",
   "version": "3.12.4"
  }
 },
 "nbformat": 4,
 "nbformat_minor": 2
}
